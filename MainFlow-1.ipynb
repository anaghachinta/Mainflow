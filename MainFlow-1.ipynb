{
 "cells": [
  {
   "cell_type": "code",
   "execution_count": 1,
   "id": "32a4df84",
   "metadata": {},
   "outputs": [
    {
     "name": "stdout",
     "output_type": "stream",
     "text": [
      "Updated list of scores: [99, 78, 86, 92, 80]\n"
     ]
    }
   ],
   "source": [
    "Anagha_list=[90, 85, 78, 86, 92]\n",
    "Anagha_list.append(80)\n",
    "Anagha_list.remove(85)\n",
    "Anagha_list[0]=99\n",
    "print(\"Updated list of scores:\", Anagha_list)"
   ]
  },
  {
   "cell_type": "code",
   "execution_count": 2,
   "id": "cd21d723",
   "metadata": {},
   "outputs": [
    {
     "name": "stdout",
     "output_type": "stream",
     "text": [
      "Updated dictionary {'Harry Potter': 5, 'The Kite Runner': 4.7, 'The Hobbit': 4.6}\n"
     ]
    }
   ],
   "source": [
    "fav_books = {'Harry Potter': 5, 'The Kite Runner': 4.8,'Neverwhere': 4.5}\n",
    "fav_books['The Hobbit'] = 4.6\n",
    "del fav_books['Neverwhere']\n",
    "fav_books['The Kite Runner'] = 4.7\n",
    "print(\"Updated dictionary\",fav_books)"
   ]
  },
  {
   "cell_type": "code",
   "execution_count": 3,
   "id": "c100f63e",
   "metadata": {},
   "outputs": [
    {
     "name": "stdout",
     "output_type": "stream",
     "text": [
      "Updated temperature set: {32, 36, 40, 41, 29}\n"
     ]
    }
   ],
   "source": [
    "set1 = {25, 41, 32, 40, 27}\n",
    "set1.add(29)\n",
    "set1.remove(27)\n",
    "set1.discard(25)\n",
    "set1.add(36)\n",
    "print(\"Updated temperature set:\",set1)"
   ]
  },
  {
   "cell_type": "code",
   "execution_count": null,
   "id": "009d9a3b",
   "metadata": {},
   "outputs": [],
   "source": []
  }
 ],
 "metadata": {
  "kernelspec": {
   "display_name": "Python 3 (ipykernel)",
   "language": "python",
   "name": "python3"
  },
  "language_info": {
   "codemirror_mode": {
    "name": "ipython",
    "version": 3
   },
   "file_extension": ".py",
   "mimetype": "text/x-python",
   "name": "python",
   "nbconvert_exporter": "python",
   "pygments_lexer": "ipython3",
   "version": "3.10.5"
  }
 },
 "nbformat": 4,
 "nbformat_minor": 5
}
